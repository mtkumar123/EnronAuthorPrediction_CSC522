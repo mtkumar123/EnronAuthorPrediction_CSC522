{
 "cells": [
  {
   "cell_type": "code",
   "execution_count": 17,
   "id": "60c20116",
   "metadata": {},
   "outputs": [],
   "source": [
    "%matplotlib inline\n",
    "import os\n",
    "import pandas as pd\n",
    "import matplotlib.pyplot as plt"
   ]
  },
  {
   "cell_type": "markdown",
   "id": "9363c958",
   "metadata": {},
   "source": [
    "    Extracting the number of sent emails present in the folders sent and _sent_mail for every author and storing the data in pandas dataframe"
   ]
  },
  {
   "cell_type": "code",
   "execution_count": 18,
   "id": "5e981b3e",
   "metadata": {},
   "outputs": [
    {
     "data": {
      "text/plain": [
       "102"
      ]
     },
     "execution_count": 18,
     "metadata": {},
     "output_type": "execute_result"
    }
   ],
   "source": [
    "#Please insert path to the mail directory here\n",
    "mail_dir = \"./maildir/\"\n",
    "authors = os.listdir(mail_dir)\n",
    "number_author_folders = len(authors)\n",
    "extract_data =[]\n",
    "for author in authors:\n",
    "    try:\n",
    "        number_sent_emails = len(os.listdir(mail_dir + author + \"/_sent_mail\"))\n",
    "        extract_data.append([author, number_sent_emails, 1, 0])\n",
    "    except FileNotFoundError as e:\n",
    "        try:\n",
    "            number_sent_emails = len(os.listdir(mail_dir + author + \"/sent\"))\n",
    "            extract_data.append([author, number_sent_emails, 0, 1])\n",
    "        except FileNotFoundError as e:\n",
    "            pass\n",
    "    except NotADirectoryError as e:\n",
    "        pass\n",
    "df = pd.DataFrame(extract_data, columns=[\"AuthorName\", \"NumberEmailsSent\", \"SentEmailFolder\", \"SentFolder\"])\n",
    "number_authors = df.shape[0]\n",
    "number_authors"
   ]
  },
  {
   "cell_type": "code",
   "execution_count": 19,
   "id": "92b47b57",
   "metadata": {},
   "outputs": [
    {
     "name": "stdout",
     "output_type": "stream",
     "text": [
      "Percentage of authors that had a sent/sent_email folder = 0.6754966887417219\n",
      "Number of authors where we use the SentEmailFolder = 78\n",
      "Number of authors where we use the SentFolder = 24\n",
      "Total number of author folders 151\n"
     ]
    }
   ],
   "source": [
    "print(\"Percentage of authors that had a sent/sent_email folder = {}\".format(number_authors/number_author_folders))\n",
    "print(\"Number of authors where we use the SentEmailFolder = {}\".format(len(df.loc[df[\"SentEmailFolder\"]==1])))\n",
    "print(\"Number of authors where we use the SentFolder = {}\".format(len(df.loc[df[\"SentFolder\"]==1])))\n",
    "print(\"Total number of author folders {}\".format(number_author_folders))\n",
    "\n"
   ]
  },
  {
   "cell_type": "markdown",
   "id": "05693026",
   "metadata": {},
   "source": [
    "Sorting dataframe based on the number of sent mails"
   ]
  },
  {
   "cell_type": "code",
   "execution_count": 20,
   "id": "2b5a38cc",
   "metadata": {},
   "outputs": [],
   "source": [
    "df = df.sort_values(by=\"NumberEmailsSent\", ascending=False)\n",
    "%matplotlib qt \n",
    "# plt.plot(df[\"AuthorName\"], df[\"NumberEmailsSent\"])\n",
    "# plt.show()"
   ]
  },
  {
   "cell_type": "code",
   "execution_count": 21,
   "id": "933163a8",
   "metadata": {},
   "outputs": [
    {
     "data": {
      "text/html": [
       "<div>\n",
       "<style scoped>\n",
       "    .dataframe tbody tr th:only-of-type {\n",
       "        vertical-align: middle;\n",
       "    }\n",
       "\n",
       "    .dataframe tbody tr th {\n",
       "        vertical-align: top;\n",
       "    }\n",
       "\n",
       "    .dataframe thead th {\n",
       "        text-align: right;\n",
       "    }\n",
       "</style>\n",
       "<table border=\"1\" class=\"dataframe\">\n",
       "  <thead>\n",
       "    <tr style=\"text-align: right;\">\n",
       "      <th></th>\n",
       "      <th>AuthorName</th>\n",
       "      <th>NumberEmailsSent</th>\n",
       "      <th>SentEmailFolder</th>\n",
       "      <th>SentFolder</th>\n",
       "    </tr>\n",
       "  </thead>\n",
       "  <tbody>\n",
       "    <tr>\n",
       "      <th>16</th>\n",
       "      <td>sanders-r</td>\n",
       "      <td>1632</td>\n",
       "      <td>0</td>\n",
       "      <td>1</td>\n",
       "    </tr>\n",
       "  </tbody>\n",
       "</table>\n",
       "</div>"
      ],
      "text/plain": [
       "   AuthorName  NumberEmailsSent  SentEmailFolder  SentFolder\n",
       "16  sanders-r              1632                0           1"
      ]
     },
     "execution_count": 21,
     "metadata": {},
     "output_type": "execute_result"
    }
   ],
   "source": [
    "df[:10].tail(1)\n",
    "#For 1st 10 authors the lowest NumberEmailsSent is 1632"
   ]
  },
  {
   "cell_type": "code",
   "execution_count": 22,
   "id": "8d31a819",
   "metadata": {},
   "outputs": [
    {
     "data": {
      "text/html": [
       "<div>\n",
       "<style scoped>\n",
       "    .dataframe tbody tr th:only-of-type {\n",
       "        vertical-align: middle;\n",
       "    }\n",
       "\n",
       "    .dataframe tbody tr th {\n",
       "        vertical-align: top;\n",
       "    }\n",
       "\n",
       "    .dataframe thead th {\n",
       "        text-align: right;\n",
       "    }\n",
       "</style>\n",
       "<table border=\"1\" class=\"dataframe\">\n",
       "  <thead>\n",
       "    <tr style=\"text-align: right;\">\n",
       "      <th></th>\n",
       "      <th>AuthorName</th>\n",
       "      <th>NumberEmailsSent</th>\n",
       "      <th>SentEmailFolder</th>\n",
       "      <th>SentFolder</th>\n",
       "    </tr>\n",
       "  </thead>\n",
       "  <tbody>\n",
       "    <tr>\n",
       "      <th>93</th>\n",
       "      <td>kean-s</td>\n",
       "      <td>1315</td>\n",
       "      <td>0</td>\n",
       "      <td>1</td>\n",
       "    </tr>\n",
       "  </tbody>\n",
       "</table>\n",
       "</div>"
      ],
      "text/plain": [
       "   AuthorName  NumberEmailsSent  SentEmailFolder  SentFolder\n",
       "93     kean-s              1315                0           1"
      ]
     },
     "execution_count": 22,
     "metadata": {},
     "output_type": "execute_result"
    }
   ],
   "source": [
    "df[:15].tail(1)\n",
    "#For 1st 15 authors the lowest NumberEmailsSent is 1315"
   ]
  },
  {
   "cell_type": "code",
   "execution_count": 23,
   "id": "a1ba01e5",
   "metadata": {},
   "outputs": [
    {
     "data": {
      "text/html": [
       "<div>\n",
       "<style scoped>\n",
       "    .dataframe tbody tr th:only-of-type {\n",
       "        vertical-align: middle;\n",
       "    }\n",
       "\n",
       "    .dataframe tbody tr th {\n",
       "        vertical-align: top;\n",
       "    }\n",
       "\n",
       "    .dataframe thead th {\n",
       "        text-align: right;\n",
       "    }\n",
       "</style>\n",
       "<table border=\"1\" class=\"dataframe\">\n",
       "  <thead>\n",
       "    <tr style=\"text-align: right;\">\n",
       "      <th></th>\n",
       "      <th>AuthorName</th>\n",
       "      <th>NumberEmailsSent</th>\n",
       "      <th>SentEmailFolder</th>\n",
       "      <th>SentFolder</th>\n",
       "    </tr>\n",
       "  </thead>\n",
       "  <tbody>\n",
       "    <tr>\n",
       "      <th>55</th>\n",
       "      <td>scott-s</td>\n",
       "      <td>991</td>\n",
       "      <td>1</td>\n",
       "      <td>0</td>\n",
       "    </tr>\n",
       "  </tbody>\n",
       "</table>\n",
       "</div>"
      ],
      "text/plain": [
       "   AuthorName  NumberEmailsSent  SentEmailFolder  SentFolder\n",
       "55    scott-s               991                1           0"
      ]
     },
     "execution_count": 23,
     "metadata": {},
     "output_type": "execute_result"
    }
   ],
   "source": [
    "df[:20].tail(1)\n",
    "#For 1st 15 authors the lowest NumberEmailsSent is 991"
   ]
  },
  {
   "cell_type": "code",
   "execution_count": 24,
   "id": "69c41c3f",
   "metadata": {},
   "outputs": [
    {
     "data": {
      "text/html": [
       "<div>\n",
       "<style scoped>\n",
       "    .dataframe tbody tr th:only-of-type {\n",
       "        vertical-align: middle;\n",
       "    }\n",
       "\n",
       "    .dataframe tbody tr th {\n",
       "        vertical-align: top;\n",
       "    }\n",
       "\n",
       "    .dataframe thead th {\n",
       "        text-align: right;\n",
       "    }\n",
       "</style>\n",
       "<table border=\"1\" class=\"dataframe\">\n",
       "  <thead>\n",
       "    <tr style=\"text-align: right;\">\n",
       "      <th></th>\n",
       "      <th>AuthorName</th>\n",
       "      <th>NumberEmailsSent</th>\n",
       "      <th>SentEmailFolder</th>\n",
       "      <th>SentFolder</th>\n",
       "    </tr>\n",
       "  </thead>\n",
       "  <tbody>\n",
       "    <tr>\n",
       "      <th>6</th>\n",
       "      <td>mcconnell-m</td>\n",
       "      <td>815</td>\n",
       "      <td>1</td>\n",
       "      <td>0</td>\n",
       "    </tr>\n",
       "  </tbody>\n",
       "</table>\n",
       "</div>"
      ],
      "text/plain": [
       "    AuthorName  NumberEmailsSent  SentEmailFolder  SentFolder\n",
       "6  mcconnell-m               815                1           0"
      ]
     },
     "execution_count": 24,
     "metadata": {},
     "output_type": "execute_result"
    }
   ],
   "source": [
    "df[:25].tail(1)\n",
    "#For 1st 25 authors the lowest NumberEmailsSent is 815"
   ]
  },
  {
   "cell_type": "code",
   "execution_count": 25,
   "id": "74d7cd17",
   "metadata": {},
   "outputs": [
    {
     "data": {
      "text/html": [
       "<div>\n",
       "<style scoped>\n",
       "    .dataframe tbody tr th:only-of-type {\n",
       "        vertical-align: middle;\n",
       "    }\n",
       "\n",
       "    .dataframe tbody tr th {\n",
       "        vertical-align: top;\n",
       "    }\n",
       "\n",
       "    .dataframe thead th {\n",
       "        text-align: right;\n",
       "    }\n",
       "</style>\n",
       "<table border=\"1\" class=\"dataframe\">\n",
       "  <thead>\n",
       "    <tr style=\"text-align: right;\">\n",
       "      <th></th>\n",
       "      <th>AuthorName</th>\n",
       "      <th>NumberEmailsSent</th>\n",
       "      <th>SentEmailFolder</th>\n",
       "      <th>SentFolder</th>\n",
       "    </tr>\n",
       "  </thead>\n",
       "  <tbody>\n",
       "    <tr>\n",
       "      <th>45</th>\n",
       "      <td>mann-k</td>\n",
       "      <td>4220</td>\n",
       "      <td>1</td>\n",
       "      <td>0</td>\n",
       "    </tr>\n",
       "    <tr>\n",
       "      <th>24</th>\n",
       "      <td>dasovich-j</td>\n",
       "      <td>3930</td>\n",
       "      <td>0</td>\n",
       "      <td>1</td>\n",
       "    </tr>\n",
       "    <tr>\n",
       "      <th>50</th>\n",
       "      <td>jones-t</td>\n",
       "      <td>3810</td>\n",
       "      <td>0</td>\n",
       "      <td>1</td>\n",
       "    </tr>\n",
       "    <tr>\n",
       "      <th>38</th>\n",
       "      <td>shackleton-s</td>\n",
       "      <td>3774</td>\n",
       "      <td>0</td>\n",
       "      <td>1</td>\n",
       "    </tr>\n",
       "    <tr>\n",
       "      <th>5</th>\n",
       "      <td>kaminski-v</td>\n",
       "      <td>3464</td>\n",
       "      <td>1</td>\n",
       "      <td>0</td>\n",
       "    </tr>\n",
       "    <tr>\n",
       "      <th>98</th>\n",
       "      <td>lenhart-m</td>\n",
       "      <td>1992</td>\n",
       "      <td>0</td>\n",
       "      <td>1</td>\n",
       "    </tr>\n",
       "    <tr>\n",
       "      <th>32</th>\n",
       "      <td>taylor-m</td>\n",
       "      <td>1862</td>\n",
       "      <td>0</td>\n",
       "      <td>1</td>\n",
       "    </tr>\n",
       "    <tr>\n",
       "      <th>30</th>\n",
       "      <td>perlingiere-d</td>\n",
       "      <td>1770</td>\n",
       "      <td>0</td>\n",
       "      <td>1</td>\n",
       "    </tr>\n",
       "    <tr>\n",
       "      <th>11</th>\n",
       "      <td>germany-c</td>\n",
       "      <td>1659</td>\n",
       "      <td>1</td>\n",
       "      <td>0</td>\n",
       "    </tr>\n",
       "    <tr>\n",
       "      <th>16</th>\n",
       "      <td>sanders-r</td>\n",
       "      <td>1632</td>\n",
       "      <td>0</td>\n",
       "      <td>1</td>\n",
       "    </tr>\n",
       "    <tr>\n",
       "      <th>67</th>\n",
       "      <td>nemec-g</td>\n",
       "      <td>1580</td>\n",
       "      <td>0</td>\n",
       "      <td>1</td>\n",
       "    </tr>\n",
       "    <tr>\n",
       "      <th>34</th>\n",
       "      <td>bass-e</td>\n",
       "      <td>1409</td>\n",
       "      <td>1</td>\n",
       "      <td>0</td>\n",
       "    </tr>\n",
       "    <tr>\n",
       "      <th>2</th>\n",
       "      <td>stclair-c</td>\n",
       "      <td>1328</td>\n",
       "      <td>0</td>\n",
       "      <td>1</td>\n",
       "    </tr>\n",
       "    <tr>\n",
       "      <th>4</th>\n",
       "      <td>symes-k</td>\n",
       "      <td>1323</td>\n",
       "      <td>1</td>\n",
       "      <td>0</td>\n",
       "    </tr>\n",
       "    <tr>\n",
       "      <th>93</th>\n",
       "      <td>kean-s</td>\n",
       "      <td>1315</td>\n",
       "      <td>0</td>\n",
       "      <td>1</td>\n",
       "    </tr>\n",
       "    <tr>\n",
       "      <th>83</th>\n",
       "      <td>fossum-d</td>\n",
       "      <td>1099</td>\n",
       "      <td>1</td>\n",
       "      <td>0</td>\n",
       "    </tr>\n",
       "    <tr>\n",
       "      <th>36</th>\n",
       "      <td>beck-s</td>\n",
       "      <td>1093</td>\n",
       "      <td>1</td>\n",
       "      <td>0</td>\n",
       "    </tr>\n",
       "    <tr>\n",
       "      <th>22</th>\n",
       "      <td>sager-e</td>\n",
       "      <td>1061</td>\n",
       "      <td>0</td>\n",
       "      <td>1</td>\n",
       "    </tr>\n",
       "    <tr>\n",
       "      <th>29</th>\n",
       "      <td>shankman-j</td>\n",
       "      <td>1025</td>\n",
       "      <td>0</td>\n",
       "      <td>1</td>\n",
       "    </tr>\n",
       "    <tr>\n",
       "      <th>55</th>\n",
       "      <td>scott-s</td>\n",
       "      <td>991</td>\n",
       "      <td>1</td>\n",
       "      <td>0</td>\n",
       "    </tr>\n",
       "  </tbody>\n",
       "</table>\n",
       "</div>"
      ],
      "text/plain": [
       "       AuthorName  NumberEmailsSent  SentEmailFolder  SentFolder\n",
       "45         mann-k              4220                1           0\n",
       "24     dasovich-j              3930                0           1\n",
       "50        jones-t              3810                0           1\n",
       "38   shackleton-s              3774                0           1\n",
       "5      kaminski-v              3464                1           0\n",
       "98      lenhart-m              1992                0           1\n",
       "32       taylor-m              1862                0           1\n",
       "30  perlingiere-d              1770                0           1\n",
       "11      germany-c              1659                1           0\n",
       "16      sanders-r              1632                0           1\n",
       "67        nemec-g              1580                0           1\n",
       "34         bass-e              1409                1           0\n",
       "2       stclair-c              1328                0           1\n",
       "4         symes-k              1323                1           0\n",
       "93         kean-s              1315                0           1\n",
       "83       fossum-d              1099                1           0\n",
       "36         beck-s              1093                1           0\n",
       "22        sager-e              1061                0           1\n",
       "29     shankman-j              1025                0           1\n",
       "55        scott-s               991                1           0"
      ]
     },
     "execution_count": 25,
     "metadata": {},
     "output_type": "execute_result"
    }
   ],
   "source": [
    "df[:20]"
   ]
  },
  {
   "cell_type": "code",
   "execution_count": 26,
   "id": "9fbaa3b6",
   "metadata": {},
   "outputs": [
    {
     "data": {
      "text/html": [
       "<div>\n",
       "<style scoped>\n",
       "    .dataframe tbody tr th:only-of-type {\n",
       "        vertical-align: middle;\n",
       "    }\n",
       "\n",
       "    .dataframe tbody tr th {\n",
       "        vertical-align: top;\n",
       "    }\n",
       "\n",
       "    .dataframe thead th {\n",
       "        text-align: right;\n",
       "    }\n",
       "</style>\n",
       "<table border=\"1\" class=\"dataframe\">\n",
       "  <thead>\n",
       "    <tr style=\"text-align: right;\">\n",
       "      <th></th>\n",
       "      <th>AuthorName</th>\n",
       "    </tr>\n",
       "  </thead>\n",
       "  <tbody>\n",
       "    <tr>\n",
       "      <th>45</th>\n",
       "      <td>mann-k</td>\n",
       "    </tr>\n",
       "    <tr>\n",
       "      <th>24</th>\n",
       "      <td>dasovich-j</td>\n",
       "    </tr>\n",
       "    <tr>\n",
       "      <th>50</th>\n",
       "      <td>jones-t</td>\n",
       "    </tr>\n",
       "    <tr>\n",
       "      <th>38</th>\n",
       "      <td>shackleton-s</td>\n",
       "    </tr>\n",
       "    <tr>\n",
       "      <th>5</th>\n",
       "      <td>kaminski-v</td>\n",
       "    </tr>\n",
       "    <tr>\n",
       "      <th>...</th>\n",
       "      <td>...</td>\n",
       "    </tr>\n",
       "    <tr>\n",
       "      <th>61</th>\n",
       "      <td>pereira-s</td>\n",
       "    </tr>\n",
       "    <tr>\n",
       "      <th>87</th>\n",
       "      <td>dorland-c</td>\n",
       "    </tr>\n",
       "    <tr>\n",
       "      <th>37</th>\n",
       "      <td>tycholiz-b</td>\n",
       "    </tr>\n",
       "    <tr>\n",
       "      <th>63</th>\n",
       "      <td>richey-c</td>\n",
       "    </tr>\n",
       "    <tr>\n",
       "      <th>20</th>\n",
       "      <td>weldon-c</td>\n",
       "    </tr>\n",
       "  </tbody>\n",
       "</table>\n",
       "<p>65 rows × 1 columns</p>\n",
       "</div>"
      ],
      "text/plain": [
       "      AuthorName\n",
       "45        mann-k\n",
       "24    dasovich-j\n",
       "50       jones-t\n",
       "38  shackleton-s\n",
       "5     kaminski-v\n",
       "..           ...\n",
       "61     pereira-s\n",
       "87     dorland-c\n",
       "37    tycholiz-b\n",
       "63      richey-c\n",
       "20      weldon-c\n",
       "\n",
       "[65 rows x 1 columns]"
      ]
     },
     "execution_count": 26,
     "metadata": {},
     "output_type": "execute_result"
    }
   ],
   "source": [
    "df.loc[:20, [\"AuthorName\"]]"
   ]
  },
  {
   "cell_type": "markdown",
   "id": "eb713277",
   "metadata": {},
   "source": [
    "Visualizing the distribution of sent mails accross the authors."
   ]
  },
  {
   "cell_type": "code",
   "execution_count": 27,
   "id": "a68f367b",
   "metadata": {},
   "outputs": [
    {
     "data": {
      "image/png": "[encoded data removed]",
      "text/plain": [
       "<Figure size 432x288 with 1 Axes>"
      ]
     },
     "metadata": {
      "needs_background": "light"
     },
     "output_type": "display_data"
    }
   ],
   "source": [
    "%matplotlib inline\n",
    "plt.bar(df[\"AuthorName\"][:20], df[\"NumberEmailsSent\"][:20])\n",
    "plt.ylabel(\"Number of Emails\")\n",
    "plt.xticks(df[\"AuthorName\"][:20], rotation=\"vertical\")\n",
    "plt.show()"
   ]
  },
  {
   "cell_type": "code",
   "execution_count": null,
   "id": "aac172a9",
   "metadata": {},
   "outputs": [],
   "source": []
  }
 ],
 "metadata": {
  "kernelspec": {
   "display_name": "Python 3 (ipykernel)",
   "language": "python",
   "name": "python3"
  },
  "language_info": {
   "codemirror_mode": {
    "name": "ipython",
    "version": 3
   },
   "file_extension": ".py",
   "mimetype": "text/x-python",
   "name": "python",
   "nbconvert_exporter": "python",
   "pygments_lexer": "ipython3",
   "version": "3.8.12"
  }
 },
 "nbformat": 4,
 "nbformat_minor": 5
}
