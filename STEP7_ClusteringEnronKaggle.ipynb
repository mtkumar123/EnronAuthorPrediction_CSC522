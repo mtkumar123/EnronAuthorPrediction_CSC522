{
 "cells": [
  {
   "cell_type": "code",
   "execution_count": 2,
   "metadata": {
    "_cell_guid": "b1076dfc-b9ad-4769-8c92-a6c4dae69d19",
    "_uuid": "8f2839f25d086af736a60e9eeb907d3b93b6e0e5",
    "execution": {
     "iopub.execute_input": "2021-11-27T18:44:45.921964Z",
     "iopub.status.busy": "2021-11-27T18:44:45.921084Z",
     "iopub.status.idle": "2021-11-27T18:44:45.926250Z",
     "shell.execute_reply": "2021-11-27T18:44:45.925370Z",
     "shell.execute_reply.started": "2021-11-27T18:44:45.921921Z"
    }
   },
   "outputs": [],
   "source": [
    "import numpy as np # linear algebra\n",
    "import pandas as pd # data processing, CSV file I/O (e.g. pd.read_csv)\n",
    "import os"
   ]
  },
  {
   "cell_type": "code",
   "execution_count": 3,
   "metadata": {
    "execution": {
     "iopub.execute_input": "2021-11-27T18:44:45.932252Z",
     "iopub.status.busy": "2021-11-27T18:44:45.931651Z",
     "iopub.status.idle": "2021-11-27T18:44:45.957623Z",
     "shell.execute_reply": "2021-11-27T18:44:45.956641Z",
     "shell.execute_reply.started": "2021-11-27T18:44:45.932211Z"
    }
   },
   "outputs": [
    {
     "name": "stdout",
     "output_type": "stream",
     "text": [
      "[]\n",
      "[]\n",
      "['gcp.py']\n",
      "../lib/kaggle/gcp.py\n",
      "[]\n",
      "['enron.csv']\n",
      "../input/enronemails/enron.csv\n",
      "['Enron_29_Features.csv']\n",
      "../input/enron29features/Enron_29_Features.csv\n",
      "['__notebook_source__.ipynb']\n",
      "../working/__notebook_source__.ipynb\n"
     ]
    }
   ],
   "source": [
    "for dirname, _, filenames in os.walk('../'):\n",
    "    print(filenames)\n",
    "    for filename in filenames:\n",
    "        print(os.path.join(dirname, filename))"
   ]
  },
  {
   "cell_type": "code",
   "execution_count": 4,
   "metadata": {
    "execution": {
     "iopub.execute_input": "2021-11-27T18:44:45.959376Z",
     "iopub.status.busy": "2021-11-27T18:44:45.959148Z",
     "iopub.status.idle": "2021-11-27T18:44:46.953277Z",
     "shell.execute_reply": "2021-11-27T18:44:46.952665Z",
     "shell.execute_reply.started": "2021-11-27T18:44:45.959349Z"
    }
   },
   "outputs": [],
   "source": [
    "df = pd.read_csv(\"../input/enron29features/Enron_29_Features.csv\")"
   ]
  },
  {
   "cell_type": "markdown",
   "metadata": {},
   "source": [
    "This notebook was actually run on kaggle, as K-means clustering was not working on our local machines. Here we are using the Enron 29 Feature Dataset that we created extracting all the stylometric features from all the author emails found in the initial dataset Enron.csv"
   ]
  },
  {
   "cell_type": "code",
   "execution_count": 26,
   "metadata": {
    "execution": {
     "iopub.execute_input": "2021-11-27T19:07:14.554894Z",
     "iopub.status.busy": "2021-11-27T19:07:14.553758Z",
     "iopub.status.idle": "2021-11-27T19:07:34.601817Z",
     "shell.execute_reply": "2021-11-27T19:07:34.600790Z",
     "shell.execute_reply.started": "2021-11-27T19:07:14.554837Z"
    }
   },
   "outputs": [
    {
     "name": "stdout",
     "output_type": "stream",
     "text": [
      "[nltk_data] Error loading stopwords: <urlopen error [Errno -3]\n",
      "[nltk_data]     Temporary failure in name resolution>\n"
     ]
    }
   ],
   "source": [
    "import re\n",
    "import string\n",
    "from sklearn.preprocessing import StandardScaler, LabelEncoder\n",
    "import nltk\n",
    "import numpy as np\n",
    "import pandas as pd\n",
    "from sklearn.cluster import KMeans\n",
    "from sklearn.neighbors import KNeighborsClassifier\n",
    "from collections import Counter \n",
    "from sklearn.linear_model import LogisticRegression\n",
    "from gensim.models import Word2Vec\n",
    "\n",
    "from nltk import word_tokenize\n",
    "from nltk.corpus import stopwords\n",
    "\n",
    "from sklearn.cluster import MiniBatchKMeans\n",
    "from sklearn.metrics import silhouette_samples, silhouette_score\n",
    "from sklearn.metrics.pairwise import euclidean_distances\n",
    "nltk.download(\"stopwords\")\n",
    "import pandas as pd\n",
    "import numpy as np\n",
    "import matplotlib.pyplot as plt\n",
    "from nltk.tokenize import word_tokenize\n",
    "from nltk.stem import WordNetLemmatizer\n",
    "from nltk.stem import PorterStemmer\n",
    "from sklearn import preprocessing\n",
    "from tqdm import tqdm\n",
    "from keras.models import Sequential\n",
    "from keras.layers.recurrent import LSTM, GRU\n",
    "from keras.layers.core import Dense, Activation, Dropout\n",
    "from keras.layers.embeddings import Embedding\n",
    "from tensorflow.keras.layers import BatchNormalization\n",
    "from keras.utils import np_utils\n",
    "from keras.layers import GlobalMaxPooling1D, Conv1D, MaxPooling1D, Flatten, Bidirectional, SpatialDropout1D\n",
    "from sklearn.model_selection import train_test_split\n",
    "from keras.preprocessing import sequence\n",
    "from keras.preprocessing.text import Tokenizer\n",
    "from keras.callbacks import EarlyStopping\n",
    "from sklearn.model_selection import KFold\n",
    "import matplotlib.pyplot as plt\n",
    "import tensorflow as tf\n",
    "import string\n",
    "import re\n",
    "from collections import Counter"
   ]
  },
  {
   "cell_type": "code",
   "execution_count": 27,
   "metadata": {
    "execution": {
     "iopub.execute_input": "2021-11-27T19:07:34.603577Z",
     "iopub.status.busy": "2021-11-27T19:07:34.603374Z",
     "iopub.status.idle": "2021-11-27T19:07:34.608750Z",
     "shell.execute_reply": "2021-11-27T19:07:34.607702Z",
     "shell.execute_reply.started": "2021-11-27T19:07:34.603552Z"
    }
   },
   "outputs": [],
   "source": [
    "from nltk.corpus import stopwords\n",
    "stop_words = stopwords.words(\"english\")"
   ]
  },
  {
   "cell_type": "code",
   "execution_count": 28,
   "metadata": {
    "execution": {
     "iopub.execute_input": "2021-11-27T19:07:34.610520Z",
     "iopub.status.busy": "2021-11-27T19:07:34.610284Z",
     "iopub.status.idle": "2021-11-27T19:07:34.627032Z",
     "shell.execute_reply": "2021-11-27T19:07:34.626169Z",
     "shell.execute_reply.started": "2021-11-27T19:07:34.610492Z"
    }
   },
   "outputs": [
    {
     "data": {
      "text/plain": [
       "mann-k          4000\n",
       "kaminski-v      4000\n",
       "dasovich-j      4000\n",
       "germany-c       4000\n",
       "shackleton-s    4000\n",
       "Name: Folder, dtype: int64"
      ]
     },
     "execution_count": 28,
     "metadata": {},
     "output_type": "execute_result"
    }
   ],
   "source": [
    "df[\"Folder\"].value_counts()"
   ]
  },
  {
   "cell_type": "markdown",
   "metadata": {},
   "source": [
    "Here we are testing with 5 authors, 4000 emails per author"
   ]
  },
  {
   "cell_type": "code",
   "execution_count": 29,
   "metadata": {
    "execution": {
     "iopub.execute_input": "2021-11-27T19:07:34.629245Z",
     "iopub.status.busy": "2021-11-27T19:07:34.629024Z",
     "iopub.status.idle": "2021-11-27T19:07:34.638792Z",
     "shell.execute_reply": "2021-11-27T19:07:34.637789Z",
     "shell.execute_reply.started": "2021-11-27T19:07:34.629220Z"
    }
   },
   "outputs": [],
   "source": [
    "def text_process(text):\n",
    "    #Remove Punctuation Marks\n",
    "    text = text.lower()\n",
    "    nopunct = \"\"\n",
    "    clean_final = []\n",
    "    for char in text:\n",
    "        if re.match(r\"\\w\", char) or re.match(r\" \", char):\n",
    "            nopunct += char\n",
    "        elif re.match(r\" \", char):\n",
    "            nopunct += char\n",
    "        else:\n",
    "            nopunct += \" \"\n",
    "    for word in nopunct.split():\n",
    "        if not word in stop_words:\n",
    "            clean_final.append(word)\n",
    "    nopunct=\" \".join(clean_final)\n",
    "    return nopunct"
   ]
  },
  {
   "cell_type": "code",
   "execution_count": 30,
   "metadata": {
    "execution": {
     "iopub.execute_input": "2021-11-27T19:07:34.640659Z",
     "iopub.status.busy": "2021-11-27T19:07:34.640409Z",
     "iopub.status.idle": "2021-11-27T19:07:41.163535Z",
     "shell.execute_reply": "2021-11-27T19:07:41.162585Z",
     "shell.execute_reply.started": "2021-11-27T19:07:34.640632Z"
    }
   },
   "outputs": [],
   "source": [
    "df = df[df[\"Email Length\"].notna()]\n",
    "df = df[df[\"Author\"].notna()]\n",
    "clean_text = df[\"Text\"].apply(lambda row: text_process(row))\n",
    "df[\"Processed Text\"] = clean_text"
   ]
  },
  {
   "cell_type": "markdown",
   "metadata": {},
   "source": [
    "Here we performed text preprocessing, removing all the stop words, and non alphanumeric characters"
   ]
  },
  {
   "cell_type": "markdown",
   "metadata": {},
   "source": []
  },
  {
   "cell_type": "code",
   "execution_count": 47,
   "metadata": {
    "execution": {
     "iopub.execute_input": "2021-11-27T19:15:41.932799Z",
     "iopub.status.busy": "2021-11-27T19:15:41.932466Z",
     "iopub.status.idle": "2021-11-27T19:15:41.939307Z",
     "shell.execute_reply": "2021-11-27T19:15:41.938491Z",
     "shell.execute_reply.started": "2021-11-27T19:15:41.932764Z"
    }
   },
   "outputs": [],
   "source": [
    "df[\"Processed Text\"] = proccessed_text"
   ]
  },
  {
   "cell_type": "code",
   "execution_count": 48,
   "metadata": {
    "execution": {
     "iopub.execute_input": "2021-11-27T19:15:45.515787Z",
     "iopub.status.busy": "2021-11-27T19:15:45.515498Z",
     "iopub.status.idle": "2021-11-27T19:15:48.521748Z",
     "shell.execute_reply": "2021-11-27T19:15:48.520955Z",
     "shell.execute_reply.started": "2021-11-27T19:15:45.515756Z"
    }
   },
   "outputs": [],
   "source": [
    "tokenized_text = df[\"Processed Text\"].apply(lambda row: word_tokenize(row))\n",
    "df[\"Tokens\"] = tokenized_text"
   ]
  },
  {
   "cell_type": "code",
   "execution_count": 33,
   "metadata": {
    "execution": {
     "iopub.execute_input": "2021-11-27T19:07:44.276800Z",
     "iopub.status.busy": "2021-11-27T19:07:44.276566Z",
     "iopub.status.idle": "2021-11-27T19:07:44.282619Z",
     "shell.execute_reply": "2021-11-27T19:07:44.282073Z",
     "shell.execute_reply.started": "2021-11-27T19:07:44.276766Z"
    }
   },
   "outputs": [],
   "source": [
    "def vectorize(list_of_docs, model):\n",
    "\n",
    "    features = []\n",
    "\n",
    "    for tokens in list_of_docs:\n",
    "        zero_vector = np.zeros(model.vector_size)\n",
    "        vectors = []\n",
    "        for token in tokens:\n",
    "            if token in model.wv:\n",
    "                try:\n",
    "                    vectors.append(model.wv[token])\n",
    "                except KeyError:\n",
    "                    continue\n",
    "        if vectors:\n",
    "            vectors = np.asarray(vectors)\n",
    "            avg_vec = vectors.mean(axis=0)\n",
    "            features.append(avg_vec)\n",
    "        else:\n",
    "            features.append(zero_vector)\n",
    "    return features"
   ]
  },
  {
   "cell_type": "markdown",
   "metadata": {},
   "source": [
    "This function takes input of a list of tokens, a trained word2vec model. The function then goes through all the tokens and finds the appropriate word2vec vector and appends the found vector to a list called vectors. To represent the all the word vectors present in the list vectors, we take the average of the vectors and return that to represent the list of tokens passed into the function. If none of the tokens passed in were found in the glove word dictionary a zero vector is returned."
   ]
  },
  {
   "cell_type": "markdown",
   "metadata": {},
   "source": []
  },
  {
   "cell_type": "code",
   "execution_count": 34,
   "metadata": {
    "execution": {
     "iopub.execute_input": "2021-11-27T19:07:44.284027Z",
     "iopub.status.busy": "2021-11-27T19:07:44.283779Z",
     "iopub.status.idle": "2021-11-27T19:07:44.298508Z",
     "shell.execute_reply": "2021-11-27T19:07:44.297868Z",
     "shell.execute_reply.started": "2021-11-27T19:07:44.283998Z"
    }
   },
   "outputs": [],
   "source": [
    "X = df[\"Tokens\"].to_numpy()\n",
    "y = df[\"Folder\"]\n",
    "labelencoder = LabelEncoder()\n",
    "y = labelencoder.fit_transform(y)"
   ]
  },
  {
   "cell_type": "markdown",
   "metadata": {},
   "source": [
    "Here we are label encoding our target variable Y, which in this case is the folder name or author name of the sent email."
   ]
  },
  {
   "cell_type": "markdown",
   "metadata": {},
   "source": []
  },
  {
   "cell_type": "code",
   "execution_count": 35,
   "metadata": {
    "execution": {
     "iopub.execute_input": "2021-11-27T19:07:44.301672Z",
     "iopub.status.busy": "2021-11-27T19:07:44.301162Z",
     "iopub.status.idle": "2021-11-27T19:07:48.791364Z",
     "shell.execute_reply": "2021-11-27T19:07:48.790770Z",
     "shell.execute_reply.started": "2021-11-27T19:07:44.301632Z"
    }
   },
   "outputs": [],
   "source": [
    "X_train, X_test, y_train, y_test = train_test_split(df, y, test_size=0.33)\n",
    "\n",
    "tokenized_docs = X_train[\"Tokens\"]\n",
    "model = Word2Vec(sentences=tokenized_docs, vector_size=100, workers=1, seed=42)\n",
    "vectorized_docs = vectorize(tokenized_docs, model=model)\n",
    "\n",
    "test_tokenized_docs = X_test[\"Tokens\"]\n",
    "test_vectorized_docs = vectorize(test_tokenized_docs, model=model)"
   ]
  },
  {
   "cell_type": "code",
   "execution_count": 36,
   "metadata": {
    "execution": {
     "iopub.execute_input": "2021-11-27T19:07:48.794247Z",
     "iopub.status.busy": "2021-11-27T19:07:48.793650Z",
     "iopub.status.idle": "2021-11-27T19:07:48.820386Z",
     "shell.execute_reply": "2021-11-27T19:07:48.819841Z",
     "shell.execute_reply.started": "2021-11-27T19:07:48.794202Z"
    }
   },
   "outputs": [
    {
     "name": "stdout",
     "output_type": "stream",
     "text": [
      "(13400, 33)\n",
      "(13400, 100)\n",
      "(6600, 33)\n",
      "(6600, 100)\n"
     ]
    }
   ],
   "source": [
    "print(X_train.shape)\n",
    "vect_np = np.asarray(vectorized_docs)\n",
    "print(vect_np.shape)\n",
    "print(X_test.shape)\n",
    "vect_test_np = np.asarray(test_vectorized_docs)\n",
    "print(vect_test_np.shape)"
   ]
  },
  {
   "cell_type": "code",
   "execution_count": 37,
   "metadata": {
    "execution": {
     "iopub.execute_input": "2021-11-27T19:07:48.821686Z",
     "iopub.status.busy": "2021-11-27T19:07:48.821212Z",
     "iopub.status.idle": "2021-11-27T19:07:48.827229Z",
     "shell.execute_reply": "2021-11-27T19:07:48.826543Z",
     "shell.execute_reply.started": "2021-11-27T19:07:48.821658Z"
    }
   },
   "outputs": [],
   "source": [
    "def calculate_WSS(points, kmax):\n",
    "    sse = []\n",
    "    for k in range(1, kmax+1):\n",
    "        kmeans = KMeans(n_clusters = k).fit(points)\n",
    "        centroids = kmeans.cluster_centers_\n",
    "        pred_clusters = kmeans.predict(points)\n",
    "        curr_sse = 0\n",
    "    \n",
    "    # calculate square of Euclidean distance of each point from its cluster center and add to current WSS\n",
    "        for i in range(len(points)):\n",
    "            curr_center = centroids[pred_clusters[i]]\n",
    "            ed = euclidean_distances(points[i].reshape(1, -1), curr_center.reshape(1, -1))\n",
    "            curr_sse += ed\n",
    "        sse.append(curr_sse)\n",
    "    return sse"
   ]
  },
  {
   "cell_type": "code",
   "execution_count": 38,
   "metadata": {
    "execution": {
     "iopub.execute_input": "2021-11-27T19:07:48.828526Z",
     "iopub.status.busy": "2021-11-27T19:07:48.828236Z",
     "iopub.status.idle": "2021-11-27T19:10:37.249612Z",
     "shell.execute_reply": "2021-11-27T19:10:37.248716Z",
     "shell.execute_reply.started": "2021-11-27T19:07:48.828502Z"
    }
   },
   "outputs": [],
   "source": [
    "wss = calculate_WSS(vect_np, 30)"
   ]
  },
  {
   "cell_type": "markdown",
   "metadata": {},
   "source": [
    "Here we are using WSS, to try to find the optimal number of K"
   ]
  },
  {
   "cell_type": "code",
   "execution_count": 53,
   "metadata": {
    "execution": {
     "iopub.execute_input": "2021-11-27T19:19:39.220647Z",
     "iopub.status.busy": "2021-11-27T19:19:39.219822Z",
     "iopub.status.idle": "2021-11-27T19:19:39.419159Z",
     "shell.execute_reply": "2021-11-27T19:19:39.418206Z",
     "shell.execute_reply.started": "2021-11-27T19:19:39.220605Z"
    }
   },
   "outputs": [
    {
     "name": "stdout",
     "output_type": "stream",
     "text": [
      "[array([[25705.48926217]]), array([[22482.99491653]]), array([[20079.88305877]]), array([[18792.95656652]]), array([[17686.85691677]]), array([[16980.02833806]]), array([[16477.73525058]]), array([[16006.17961776]]), array([[15553.66548428]]), array([[15115.00972873]]), array([[14814.09882667]]), array([[14500.04011358]]), array([[14224.98211133]]), array([[14154.64197252]]), array([[13950.52470367]]), array([[13722.86383607]]), array([[13484.08703379]]), array([[13348.44935733]]), array([[13200.31707173]]), array([[13171.76303373]]), array([[12903.79969465]]), array([[12758.62243523]]), array([[12604.69778695]]), array([[12560.73533029]]), array([[12345.5356474]]), array([[12222.04736653]]), array([[12123.30823895]]), array([[12035.42471798]]), array([[11917.67434602]]), array([[11776.01771248]])]\n"
     ]
    },
    {
     "data": {
      "image/png": "[encoded data removed]",
      "text/plain": [
       "<Figure size 432x288 with 1 Axes>"
      ]
     },
     "metadata": {
      "needs_background": "light"
     },
     "output_type": "display_data"
    }
   ],
   "source": [
    "print(wss)\n",
    "y_axis = []\n",
    "for _ in wss:\n",
    "    y_axis.append(_[0][0])\n",
    "x_axis = list(range(1,31,1))\n",
    "plt.plot(x_axis, y_axis)\n",
    "plt.xlabel(\"Number of Clusters\")\n",
    "plt.show()"
   ]
  },
  {
   "cell_type": "markdown",
   "metadata": {},
   "source": [
    "However, looking at our graph there is no clear elbow point to choose the right number of clustes"
   ]
  },
  {
   "cell_type": "code",
   "execution_count": 40,
   "metadata": {
    "execution": {
     "iopub.execute_input": "2021-11-27T19:10:37.458076Z",
     "iopub.status.busy": "2021-11-27T19:10:37.457850Z",
     "iopub.status.idle": "2021-11-27T19:10:37.463216Z",
     "shell.execute_reply": "2021-11-27T19:10:37.462120Z",
     "shell.execute_reply.started": "2021-11-27T19:10:37.458045Z"
    }
   },
   "outputs": [],
   "source": [
    "def best_silhouette_score(points, kmax):\n",
    "    sil = []\n",
    "    for k in range(2, kmax+1):\n",
    "        kmeans = KMeans(n_clusters = k).fit(points)\n",
    "        labels = kmeans.labels_\n",
    "        score = silhouette_score(points, labels, metric = 'euclidean')\n",
    "        print(score)\n",
    "        sil.append(score)\n",
    "    return sil"
   ]
  },
  {
   "cell_type": "code",
   "execution_count": 41,
   "metadata": {
    "execution": {
     "iopub.execute_input": "2021-11-27T19:10:37.465112Z",
     "iopub.status.busy": "2021-11-27T19:10:37.464863Z",
     "iopub.status.idle": "2021-11-27T19:13:53.031139Z",
     "shell.execute_reply": "2021-11-27T19:13:53.030524Z",
     "shell.execute_reply.started": "2021-11-27T19:10:37.465082Z"
    }
   },
   "outputs": [
    {
     "name": "stdout",
     "output_type": "stream",
     "text": [
      "0.5888180743121894\n",
      "0.2304752826883286\n",
      "0.18849012588403366\n",
      "0.20174790279773377\n",
      "0.20725109057613877\n",
      "0.20432755261091265\n",
      "0.19187113583776555\n",
      "0.18252222975284335\n",
      "0.18617177222219883\n",
      "0.18215159046511972\n",
      "0.18678796871997685\n",
      "0.19003701934450365\n",
      "0.17282799290157547\n",
      "0.17525714365752165\n",
      "0.17658376658017552\n",
      "0.17181469078787046\n",
      "0.173550313377515\n",
      "0.1754199728937396\n",
      "0.17508257888210088\n",
      "0.17915222176938547\n",
      "0.17974893770562142\n",
      "0.18349248180250766\n",
      "0.18057324405919467\n",
      "0.18551568254633644\n",
      "0.17240363141274592\n",
      "0.17250963731602864\n",
      "0.18407021223969358\n",
      "0.18068327084532151\n",
      "0.17303101130716814\n"
     ]
    }
   ],
   "source": [
    "sil_scores = best_silhouette_score(vect_np, 30)"
   ]
  },
  {
   "cell_type": "markdown",
   "metadata": {},
   "source": [
    "Let's try to use the Silhoutte Method to find the right number of clusters"
   ]
  },
  {
   "cell_type": "code",
   "execution_count": 54,
   "metadata": {
    "execution": {
     "iopub.execute_input": "2021-11-27T19:20:49.440084Z",
     "iopub.status.busy": "2021-11-27T19:20:49.439755Z",
     "iopub.status.idle": "2021-11-27T19:20:49.570927Z",
     "shell.execute_reply": "2021-11-27T19:20:49.569720Z",
     "shell.execute_reply.started": "2021-11-27T19:20:49.440048Z"
    }
   },
   "outputs": [
    {
     "name": "stdout",
     "output_type": "stream",
     "text": [
      "[0.5888180743121894, 0.2304752826883286, 0.18849012588403366, 0.20174790279773377, 0.20725109057613877, 0.20432755261091265, 0.19187113583776555, 0.18252222975284335, 0.18617177222219883, 0.18215159046511972, 0.18678796871997685, 0.19003701934450365, 0.17282799290157547, 0.17525714365752165, 0.17658376658017552, 0.17181469078787046, 0.173550313377515, 0.1754199728937396, 0.17508257888210088, 0.17915222176938547, 0.17974893770562142, 0.18349248180250766, 0.18057324405919467, 0.18551568254633644, 0.17240363141274592, 0.17250963731602864, 0.18407021223969358, 0.18068327084532151, 0.17303101130716814]\n"
     ]
    },
    {
     "data": {
      "image/png": "[encoded data removed]",
      "text/plain": [
       "<Figure size 432x288 with 1 Axes>"
      ]
     },
     "metadata": {
      "needs_background": "light"
     },
     "output_type": "display_data"
    }
   ],
   "source": [
    "print(sil_scores)\n",
    "x_axis = list(range(2,31,1))\n",
    "plt.plot(x_axis, sil_scores)\n",
    "plt.xlabel(\"Number of Clusters\")\n",
    "plt.show()"
   ]
  },
  {
   "cell_type": "markdown",
   "metadata": {},
   "source": [
    "But here also there is no clear peak with which we can choose the Number of Clusters. Let's explore why clustering is not a good option here, with k=30."
   ]
  },
  {
   "cell_type": "code",
   "execution_count": 43,
   "metadata": {
    "execution": {
     "iopub.execute_input": "2021-11-27T19:13:53.207876Z",
     "iopub.status.busy": "2021-11-27T19:13:53.207362Z",
     "iopub.status.idle": "2021-11-27T19:13:59.704570Z",
     "shell.execute_reply": "2021-11-27T19:13:59.703886Z",
     "shell.execute_reply.started": "2021-11-27T19:13:53.207838Z"
    }
   },
   "outputs": [],
   "source": [
    "kmeans = KMeans(n_clusters = 30).fit(vect_np)\n",
    "training_labels = kmeans.labels_\n",
    "testing_labels = kmeans.predict(vect_test_np)"
   ]
  },
  {
   "cell_type": "code",
   "execution_count": 44,
   "metadata": {
    "execution": {
     "iopub.execute_input": "2021-11-27T19:13:59.705951Z",
     "iopub.status.busy": "2021-11-27T19:13:59.705572Z",
     "iopub.status.idle": "2021-11-27T19:13:59.830262Z",
     "shell.execute_reply": "2021-11-27T19:13:59.829637Z",
     "shell.execute_reply.started": "2021-11-27T19:13:59.705919Z"
    }
   },
   "outputs": [
    {
     "name": "stdout",
     "output_type": "stream",
     "text": [
      "(794, 33)\n",
      "Round 0\n",
      "(544, 33)\n",
      "Round 1\n",
      "(255, 33)\n",
      "Round 2\n",
      "(482, 33)\n",
      "Round 3\n",
      "(916, 33)\n",
      "Round 4\n",
      "(500, 33)\n",
      "Round 5\n",
      "(653, 33)\n",
      "Round 6\n",
      "(747, 33)\n",
      "Round 7\n",
      "(59, 33)\n",
      "Round 8\n",
      "(318, 33)\n",
      "Round 9\n",
      "(325, 33)\n",
      "Round 10\n",
      "(242, 33)\n",
      "Round 11\n",
      "(197, 33)\n",
      "Round 12\n",
      "(266, 33)\n",
      "Round 13\n",
      "(205, 33)\n",
      "Round 14\n",
      "(223, 33)\n",
      "Round 15\n",
      "(381, 33)\n",
      "Round 16\n",
      "(190, 33)\n",
      "Round 17\n",
      "(891, 33)\n",
      "Round 18\n",
      "(98, 33)\n",
      "Round 19\n",
      "(332, 33)\n",
      "Round 20\n",
      "(236, 33)\n",
      "Round 21\n",
      "(438, 33)\n",
      "Round 22\n",
      "(352, 33)\n",
      "Round 23\n",
      "(824, 33)\n",
      "Round 24\n",
      "(336, 33)\n",
      "Round 25\n",
      "(1388, 33)\n",
      "Round 26\n",
      "(94, 33)\n",
      "Round 27\n",
      "(207, 33)\n",
      "Round 28\n",
      "(907, 33)\n",
      "Round 29\n"
     ]
    },
    {
     "data": {
      "text/html": [
       "<div>\n",
       "<style scoped>\n",
       "    .dataframe tbody tr th:only-of-type {\n",
       "        vertical-align: middle;\n",
       "    }\n",
       "\n",
       "    .dataframe tbody tr th {\n",
       "        vertical-align: top;\n",
       "    }\n",
       "\n",
       "    .dataframe thead th {\n",
       "        text-align: right;\n",
       "    }\n",
       "</style>\n",
       "<table border=\"1\" class=\"dataframe\">\n",
       "  <thead>\n",
       "    <tr style=\"text-align: right;\">\n",
       "      <th></th>\n",
       "      <th>Tokens</th>\n",
       "      <th>Processed Text</th>\n",
       "      <th>Folder</th>\n",
       "    </tr>\n",
       "  </thead>\n",
       "  <tbody>\n",
       "    <tr>\n",
       "      <th>7</th>\n",
       "      <td>[hour]</td>\n",
       "      <td>hour</td>\n",
       "      <td>mann-k</td>\n",
       "    </tr>\n",
       "    <tr>\n",
       "      <th>37</th>\n",
       "      <td>[yes]</td>\n",
       "      <td>yes</td>\n",
       "      <td>mann-k</td>\n",
       "    </tr>\n",
       "    <tr>\n",
       "      <th>51</th>\n",
       "      <td>[know, either, kay]</td>\n",
       "      <td>know either kay</td>\n",
       "      <td>mann-k</td>\n",
       "    </tr>\n",
       "    <tr>\n",
       "      <th>54</th>\n",
       "      <td>[speechless]</td>\n",
       "      <td>speechless</td>\n",
       "      <td>mann-k</td>\n",
       "    </tr>\n",
       "    <tr>\n",
       "      <th>60</th>\n",
       "      <td>[anything, get, set, booked, 200, otherwise, a...</td>\n",
       "      <td>anything get set booked 200 otherwise availabl...</td>\n",
       "      <td>mann-k</td>\n",
       "    </tr>\n",
       "    <tr>\n",
       "      <th>...</th>\n",
       "      <td>...</td>\n",
       "      <td>...</td>\n",
       "      <td>...</td>\n",
       "    </tr>\n",
       "    <tr>\n",
       "      <th>13312</th>\n",
       "      <td>[ces, synthetic, storage, deal, equitable, gas...</td>\n",
       "      <td>ces synthetic storage deal equitable gas compa...</td>\n",
       "      <td>germany-c</td>\n",
       "    </tr>\n",
       "    <tr>\n",
       "      <th>13314</th>\n",
       "      <td>[sure, one, gas, purchase, make, right, 9, 00,...</td>\n",
       "      <td>sure one gas purchase make right 9 00 every mo...</td>\n",
       "      <td>germany-c</td>\n",
       "    </tr>\n",
       "    <tr>\n",
       "      <th>13324</th>\n",
       "      <td>[please, add, tricia, spence, email, working, ...</td>\n",
       "      <td>please add tricia spence email working cgas vo...</td>\n",
       "      <td>germany-c</td>\n",
       "    </tr>\n",
       "    <tr>\n",
       "      <th>13375</th>\n",
       "      <td>[read, call, make, brownies, bring]</td>\n",
       "      <td>read call make brownies bring</td>\n",
       "      <td>germany-c</td>\n",
       "    </tr>\n",
       "    <tr>\n",
       "      <th>13399</th>\n",
       "      <td>[changed, term, deal, ticket]</td>\n",
       "      <td>changed term deal ticket</td>\n",
       "      <td>germany-c</td>\n",
       "    </tr>\n",
       "  </tbody>\n",
       "</table>\n",
       "<p>907 rows × 3 columns</p>\n",
       "</div>"
      ],
      "text/plain": [
       "                                                  Tokens  \\\n",
       "7                                                 [hour]   \n",
       "37                                                 [yes]   \n",
       "51                                   [know, either, kay]   \n",
       "54                                          [speechless]   \n",
       "60     [anything, get, set, booked, 200, otherwise, a...   \n",
       "...                                                  ...   \n",
       "13312  [ces, synthetic, storage, deal, equitable, gas...   \n",
       "13314  [sure, one, gas, purchase, make, right, 9, 00,...   \n",
       "13324  [please, add, tricia, spence, email, working, ...   \n",
       "13375                [read, call, make, brownies, bring]   \n",
       "13399                      [changed, term, deal, ticket]   \n",
       "\n",
       "                                          Processed Text     Folder  \n",
       "7                                                   hour     mann-k  \n",
       "37                                                   yes     mann-k  \n",
       "51                                       know either kay     mann-k  \n",
       "54                                            speechless     mann-k  \n",
       "60     anything get set booked 200 otherwise availabl...     mann-k  \n",
       "...                                                  ...        ...  \n",
       "13312  ces synthetic storage deal equitable gas compa...  germany-c  \n",
       "13314  sure one gas purchase make right 9 00 every mo...  germany-c  \n",
       "13324  please add tricia spence email working cgas vo...  germany-c  \n",
       "13375                      read call make brownies bring  germany-c  \n",
       "13399                           changed term deal ticket  germany-c  \n",
       "\n",
       "[907 rows x 3 columns]"
      ]
     },
     "execution_count": 44,
     "metadata": {},
     "output_type": "execute_result"
    }
   ],
   "source": [
    "for i in range(0,30,1):\n",
    "    cluster_df = df.iloc[np.where(training_labels==i)]\n",
    "    print(cluster_df.shape)\n",
    "    print(\"Round {}\".format(i))\n",
    "cluster_df[[\"Tokens\", \"Processed Text\", \"Folder\"]]"
   ]
  },
  {
   "cell_type": "markdown",
   "metadata": {},
   "source": [
    "It looks like the data is getting pretty nicely distributed amongst the 30 clusters. Here clustering is based on the vectors of the emails - which is the average of all the word vectors contained in each email. Let's look at the emails found within the last cluster. As you can see from the Processed Text none of the emails really have anything in common, they show no proper relationship or meaningful insight. \n",
    "We believe that by taking the average of all the word vectors and using that to represent the overall email lost a lot of information, and thus clustering using the resulting vector did not result in meaningful clusters."
   ]
  },
  {
   "cell_type": "code",
   "execution_count": null,
   "metadata": {},
   "outputs": [],
   "source": []
  },
  {
   "cell_type": "code",
   "execution_count": null,
   "metadata": {},
   "outputs": [],
   "source": []
  }
 ],
 "metadata": {
  "kernelspec": {
   "display_name": "Python 3 (ipykernel)",
   "language": "python",
   "name": "python3"
  },
  "language_info": {
   "codemirror_mode": {
    "name": "ipython",
    "version": 3
   },
   "file_extension": ".py",
   "mimetype": "text/x-python",
   "name": "python",
   "nbconvert_exporter": "python",
   "pygments_lexer": "ipython3",
   "version": "3.8.12"
  }
 },
 "nbformat": 4,
 "nbformat_minor": 4
}
