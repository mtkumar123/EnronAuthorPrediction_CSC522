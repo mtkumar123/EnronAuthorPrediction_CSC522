{
 "cells": [
  {
   "cell_type": "code",
   "execution_count": 27,
   "id": "fb0fdded",
   "metadata": {},
   "outputs": [
    {
     "name": "stderr",
     "output_type": "stream",
     "text": [
      "[nltk_data] Downloading package stopwords to /Users/manoj/nltk_data...\n",
      "[nltk_data]   Package stopwords is already up-to-date!\n"
     ]
    }
   ],
   "source": [
    "import re\n",
    "import string\n",
    "from sklearn.preprocessing import StandardScaler, LabelEncoder\n",
    "import nltk\n",
    "import numpy as np\n",
    "import pandas as pd\n",
    "from sklearn.cluster import KMeans\n",
    "from sklearn.neighbors import KNeighborsClassifier\n",
    "from collections import Counter \n",
    "from sklearn.linear_model import LogisticRegression\n",
    "from gensim.models import Word2Vec\n",
    "from sklearn.ensemble import RandomForestClassifier\n",
    "from nltk import word_tokenize\n",
    "from nltk.corpus import stopwords\n",
    "\n",
    "from sklearn.cluster import MiniBatchKMeans\n",
    "from sklearn.metrics import silhouette_samples, silhouette_score\n",
    "\n",
    "nltk.download(\"stopwords\")\n",
    "import pandas as pd\n",
    "import numpy as np\n",
    "import matplotlib.pyplot as plt\n",
    "from nltk.tokenize import word_tokenize\n",
    "from nltk.stem import WordNetLemmatizer\n",
    "from nltk.stem import PorterStemmer\n",
    "from sklearn import preprocessing\n",
    "from tqdm import tqdm\n",
    "from keras.models import Sequential\n",
    "from keras.layers.recurrent import LSTM, GRU\n",
    "from keras.layers.core import Dense, Activation, Dropout\n",
    "from keras.layers.embeddings import Embedding\n",
    "from tensorflow.keras.layers import BatchNormalization\n",
    "from keras.utils import np_utils\n",
    "from keras.layers import GlobalMaxPooling1D, Conv1D, MaxPooling1D, Flatten, Bidirectional, SpatialDropout1D\n",
    "from sklearn.model_selection import train_test_split\n",
    "from keras.preprocessing import sequence\n",
    "from keras.preprocessing.text import Tokenizer\n",
    "from keras.callbacks import EarlyStopping\n",
    "from sklearn.model_selection import KFold\n",
    "import matplotlib.pyplot as plt\n",
    "from nltk.corpus import stopwords\n",
    "stop_words = stopwords.words(\"english\")\n",
    "import tensorflow as tf\n",
    "import string\n",
    "import re\n",
    "from collections import Counter"
   ]
  },
  {
   "cell_type": "code",
   "execution_count": 28,
   "id": "ddc0706c",
   "metadata": {},
   "outputs": [],
   "source": [
    "#Put in the file path to the dataset created from extractingauthors.ipynb\n",
    "df = pd.read_csv(\"./enron.csv\")\n",
    "df = df.drop([\"Email Folder\"], axis=1)\n",
    "#We need only the top 20 authors ordered by number of emails found in either the\n",
    "#sent folder or _sent_mail folder\n",
    "\n",
    "#Add top_authors = df.value_counts([\"Folder\"])[:X] for the number of authors required\n",
    "# Change X to 5,10,15 to test with 5, 10, 15 authors\n",
    "top_authors = df.value_counts([\"Folder\"])[:5]\n",
    "df = df.loc[df[\"Folder\"].isin(list(top_authors.index.get_level_values(0)))].drop([\"Unnamed: 0\"], axis=1).reset_index(drop=True)\n",
    "df = df[df[\"Text\"]!=\" \"]\n",
    "df = df[df[\"Text\"]!=\"\\n\"]\n",
    "df = df.dropna()"
   ]
  },
  {
   "cell_type": "code",
   "execution_count": 29,
   "id": "5fadcc27",
   "metadata": {},
   "outputs": [
    {
     "data": {
      "text/plain": [
       "mann-k          8167\n",
       "kaminski-v      5926\n",
       "dasovich-j      4805\n",
       "germany-c       4571\n",
       "shackleton-s    4003\n",
       "Name: Folder, dtype: int64"
      ]
     },
     "execution_count": 29,
     "metadata": {},
     "output_type": "execute_result"
    }
   ],
   "source": [
    "df[\"Folder\"].value_counts()"
   ]
  },
  {
   "cell_type": "markdown",
   "id": "e8a581c1",
   "metadata": {},
   "source": [
    "Here we are using the enron.csv file created from the noteboook \"STEP2_ExtractingAuthorEmails.ipynb\". This csv contains all the sent emails from 20 authors, and the extracted body of text from each email. You can change the X value too 5,10,15 to test with the corresponding number of authors. Here we are testing with 5 authors."
   ]
  },
  {
   "cell_type": "code",
   "execution_count": 30,
   "id": "dbe3313d",
   "metadata": {},
   "outputs": [],
   "source": [
    "def uniform_distribution(samples_per_author, df):\n",
    "    df3 = pd.DataFrame(columns=[\"Author\", \"Folder\", \"File\", \"Text\", \"Raw Text\"]) \n",
    "    for folder in df[\"Folder\"].value_counts().index:\n",
    "        df3 = df3.append(df[df[\"Folder\"]==folder].sample(n=samples_per_author), ignore_index=True)\n",
    "    return df3"
   ]
  },
  {
   "cell_type": "code",
   "execution_count": 31,
   "id": "e7d7f2c9",
   "metadata": {},
   "outputs": [
    {
     "name": "stdout",
     "output_type": "stream",
     "text": [
      "mann-k          4000\n",
      "kaminski-v      4000\n",
      "dasovich-j      4000\n",
      "germany-c       4000\n",
      "shackleton-s    4000\n",
      "Name: Folder, dtype: int64\n"
     ]
    },
    {
     "data": {
      "text/html": [
       "<div>\n",
       "<style scoped>\n",
       "    .dataframe tbody tr th:only-of-type {\n",
       "        vertical-align: middle;\n",
       "    }\n",
       "\n",
       "    .dataframe tbody tr th {\n",
       "        vertical-align: top;\n",
       "    }\n",
       "\n",
       "    .dataframe thead th {\n",
       "        text-align: right;\n",
       "    }\n",
       "</style>\n",
       "<table border=\"1\" class=\"dataframe\">\n",
       "  <thead>\n",
       "    <tr style=\"text-align: right;\">\n",
       "      <th></th>\n",
       "      <th>Author</th>\n",
       "      <th>Folder</th>\n",
       "      <th>File</th>\n",
       "      <th>Text</th>\n",
       "      <th>Raw Text</th>\n",
       "      <th>Message ID</th>\n",
       "    </tr>\n",
       "  </thead>\n",
       "  <tbody>\n",
       "    <tr>\n",
       "      <th>0</th>\n",
       "      <td>Kay</td>\n",
       "      <td>mann-k</td>\n",
       "      <td>543.0</td>\n",
       "      <td>Here is the latest version.  Our meeting is sc...</td>\n",
       "      <td>Message-ID: &lt;22360372.1075845931625.JavaMail.e...</td>\n",
       "      <td>22360372.1075845931625.</td>\n",
       "    </tr>\n",
       "    <tr>\n",
       "      <th>1</th>\n",
       "      <td>Kay</td>\n",
       "      <td>mann-k</td>\n",
       "      <td>67.0</td>\n",
       "      <td>Per your request.\\n</td>\n",
       "      <td>Message-ID: &lt;2759744.1075845920112.JavaMail.ev...</td>\n",
       "      <td>2759744.1075845920112.</td>\n",
       "    </tr>\n",
       "    <tr>\n",
       "      <th>2</th>\n",
       "      <td>Kay</td>\n",
       "      <td>mann-k</td>\n",
       "      <td>2643.0</td>\n",
       "      <td>The word is that giving the notice could put t...</td>\n",
       "      <td>Message-ID: &lt;30826773.1075846093464.JavaMail.e...</td>\n",
       "      <td>30826773.1075846093464.</td>\n",
       "    </tr>\n",
       "    <tr>\n",
       "      <th>3</th>\n",
       "      <td>Kay</td>\n",
       "      <td>mann-k</td>\n",
       "      <td>691.0</td>\n",
       "      <td>I'm not particularly wild about many of the ch...</td>\n",
       "      <td>Message-ID: &lt;18356955.1075845935087.JavaMail.e...</td>\n",
       "      <td>18356955.1075845935087.</td>\n",
       "    </tr>\n",
       "    <tr>\n",
       "      <th>4</th>\n",
       "      <td>Mann, Kay</td>\n",
       "      <td>mann-k</td>\n",
       "      <td>191.0</td>\n",
       "      <td>I'm happy to look at another format.  This was...</td>\n",
       "      <td>Message-ID: &lt;7652644.1075861733089.JavaMail.ev...</td>\n",
       "      <td>7652644.1075861733089.</td>\n",
       "    </tr>\n",
       "    <tr>\n",
       "      <th>...</th>\n",
       "      <td>...</td>\n",
       "      <td>...</td>\n",
       "      <td>...</td>\n",
       "      <td>...</td>\n",
       "      <td>...</td>\n",
       "      <td>...</td>\n",
       "    </tr>\n",
       "    <tr>\n",
       "      <th>19995</th>\n",
       "      <td>Sara</td>\n",
       "      <td>shackleton-s</td>\n",
       "      <td>357.0</td>\n",
       "      <td>Do you have a draft?\\n\\n</td>\n",
       "      <td>Message-ID: &lt;26239005.1075844525500.JavaMail.e...</td>\n",
       "      <td>26239005.1075844525500.</td>\n",
       "    </tr>\n",
       "    <tr>\n",
       "      <th>19996</th>\n",
       "      <td>Sara</td>\n",
       "      <td>shackleton-s</td>\n",
       "      <td>5359.0</td>\n",
       "      <td>Jason:\\n\\nHere's my suggestion for item (ix) [...</td>\n",
       "      <td>Message-ID: &lt;13586110.1075844905248.JavaMail.e...</td>\n",
       "      <td>13586110.1075844905248.</td>\n",
       "    </tr>\n",
       "    <tr>\n",
       "      <th>19997</th>\n",
       "      <td>Sara</td>\n",
       "      <td>shackleton-s</td>\n",
       "      <td>72.0</td>\n",
       "      <td>Looks fine to me.  SS\\n\\n</td>\n",
       "      <td>Message-ID: &lt;5237013.1075844518930.JavaMail.ev...</td>\n",
       "      <td>5237013.1075844518930.</td>\n",
       "    </tr>\n",
       "    <tr>\n",
       "      <th>19998</th>\n",
       "      <td>Sara</td>\n",
       "      <td>shackleton-s</td>\n",
       "      <td>193.0</td>\n",
       "      <td>I spoke with Dale Neuner (confirm desk) a few ...</td>\n",
       "      <td>Message-ID: &lt;22890009.1075844521680.JavaMail.e...</td>\n",
       "      <td>22890009.1075844521680.</td>\n",
       "    </tr>\n",
       "    <tr>\n",
       "      <th>19999</th>\n",
       "      <td>Sara</td>\n",
       "      <td>shackleton-s</td>\n",
       "      <td>2023.0</td>\n",
       "      <td>Tana:  attached are the L/C provisions for the...</td>\n",
       "      <td>Message-ID: &lt;29117984.1075844567240.JavaMail.e...</td>\n",
       "      <td>29117984.1075844567240.</td>\n",
       "    </tr>\n",
       "  </tbody>\n",
       "</table>\n",
       "<p>20000 rows × 6 columns</p>\n",
       "</div>"
      ],
      "text/plain": [
       "          Author        Folder    File  \\\n",
       "0            Kay        mann-k   543.0   \n",
       "1            Kay        mann-k    67.0   \n",
       "2            Kay        mann-k  2643.0   \n",
       "3            Kay        mann-k   691.0   \n",
       "4      Mann, Kay        mann-k   191.0   \n",
       "...          ...           ...     ...   \n",
       "19995       Sara  shackleton-s   357.0   \n",
       "19996       Sara  shackleton-s  5359.0   \n",
       "19997       Sara  shackleton-s    72.0   \n",
       "19998       Sara  shackleton-s   193.0   \n",
       "19999       Sara  shackleton-s  2023.0   \n",
       "\n",
       "                                                    Text  \\\n",
       "0      Here is the latest version.  Our meeting is sc...   \n",
       "1                                    Per your request.\\n   \n",
       "2      The word is that giving the notice could put t...   \n",
       "3      I'm not particularly wild about many of the ch...   \n",
       "4      I'm happy to look at another format.  This was...   \n",
       "...                                                  ...   \n",
       "19995                           Do you have a draft?\\n\\n   \n",
       "19996  Jason:\\n\\nHere's my suggestion for item (ix) [...   \n",
       "19997                          Looks fine to me.  SS\\n\\n   \n",
       "19998  I spoke with Dale Neuner (confirm desk) a few ...   \n",
       "19999  Tana:  attached are the L/C provisions for the...   \n",
       "\n",
       "                                                Raw Text  \\\n",
       "0      Message-ID: <22360372.1075845931625.JavaMail.e...   \n",
       "1      Message-ID: <2759744.1075845920112.JavaMail.ev...   \n",
       "2      Message-ID: <30826773.1075846093464.JavaMail.e...   \n",
       "3      Message-ID: <18356955.1075845935087.JavaMail.e...   \n",
       "4      Message-ID: <7652644.1075861733089.JavaMail.ev...   \n",
       "...                                                  ...   \n",
       "19995  Message-ID: <26239005.1075844525500.JavaMail.e...   \n",
       "19996  Message-ID: <13586110.1075844905248.JavaMail.e...   \n",
       "19997  Message-ID: <5237013.1075844518930.JavaMail.ev...   \n",
       "19998  Message-ID: <22890009.1075844521680.JavaMail.e...   \n",
       "19999  Message-ID: <29117984.1075844567240.JavaMail.e...   \n",
       "\n",
       "                    Message ID  \n",
       "0      22360372.1075845931625.  \n",
       "1       2759744.1075845920112.  \n",
       "2      30826773.1075846093464.  \n",
       "3      18356955.1075845935087.  \n",
       "4       7652644.1075861733089.  \n",
       "...                        ...  \n",
       "19995  26239005.1075844525500.  \n",
       "19996  13586110.1075844905248.  \n",
       "19997   5237013.1075844518930.  \n",
       "19998  22890009.1075844521680.  \n",
       "19999  29117984.1075844567240.  \n",
       "\n",
       "[20000 rows x 6 columns]"
      ]
     },
     "execution_count": 31,
     "metadata": {},
     "output_type": "execute_result"
    }
   ],
   "source": [
    "# Change the number of samples per author here\n",
    "df = uniform_distribution(4000, df)\n",
    "print(df[\"Folder\"].value_counts())\n",
    "df"
   ]
  },
  {
   "cell_type": "markdown",
   "id": "cfbb7af9",
   "metadata": {},
   "source": [
    "The function uniform_distribution is used to sample the appropriate number of emails from the number of chosen authors. As you can initially see the number of emails per author is unbalanced with the highest being around 8000 and the lowest being around 4000. To ensure equal distribution we random sampled 4000 emails from each of the 5 authors."
   ]
  },
  {
   "cell_type": "code",
   "execution_count": 32,
   "id": "facbcb89",
   "metadata": {},
   "outputs": [],
   "source": [
    "def text_process(text):\n",
    "    #Remove Punctuation Marks\n",
    "    text = text.lower()\n",
    "    nopunct = \"\"\n",
    "    clean_final = []\n",
    "    for char in text:\n",
    "        if re.match(r\"\\w\", char) or re.match(r\" \", char):\n",
    "            nopunct += char\n",
    "        elif re.match(r\" \", char):\n",
    "            nopunct += char\n",
    "        else:\n",
    "            nopunct += \" \"\n",
    "    for word in nopunct.split():\n",
    "        if not word in stop_words:\n",
    "            clean_final.append(word)\n",
    "    nopunct=\" \".join(clean_final)\n",
    "    return nopunct"
   ]
  },
  {
   "cell_type": "code",
   "execution_count": 33,
   "id": "07469cd1",
   "metadata": {},
   "outputs": [
    {
     "data": {
      "text/plain": [
       "0        latest version meeting scheduled tomorrow 300 ...\n",
       "1                                              per request\n",
       "2        word giving notice could put equipment balance...\n",
       "3        particularly wild many changes proposed ge see...\n",
       "4          happy look another format one michelle gave kay\n",
       "                               ...                        \n",
       "19995                                                draft\n",
       "19996    jason suggestion item ix additional event defa...\n",
       "19997                                        looks fine ss\n",
       "19998    spoke dale neuner confirm desk minutes ago see...\n",
       "19999    tana attached l c provisions deutsche bank mas...\n",
       "Name: Text, Length: 20000, dtype: object"
      ]
     },
     "execution_count": 33,
     "metadata": {},
     "output_type": "execute_result"
    }
   ],
   "source": [
    "#Process all the text in each row in the df dataset\n",
    "proccessed_text = df[\"Text\"].apply(lambda row: text_process(row))\n",
    "proccessed_text"
   ]
  },
  {
   "cell_type": "code",
   "execution_count": 34,
   "id": "c1111251",
   "metadata": {},
   "outputs": [],
   "source": [
    "df[\"Processed Text\"] = proccessed_text"
   ]
  },
  {
   "cell_type": "markdown",
   "id": "043e47ac",
   "metadata": {},
   "source": [
    "Here we are doing text preprocessing - remove all non alphanumeric characters, and removing the stop words, and adding that as a column to the dataframe"
   ]
  },
  {
   "cell_type": "code",
   "execution_count": 35,
   "id": "525bb9cc",
   "metadata": {},
   "outputs": [],
   "source": [
    "tokenized_text = df[\"Processed Text\"].apply(lambda row: word_tokenize(row))\n",
    "df[\"Tokens\"] = tokenized_text"
   ]
  },
  {
   "cell_type": "markdown",
   "id": "e059fff1",
   "metadata": {},
   "source": [
    "Converting the processed text to tokens which will then be used to find the vector in the Glove pretrained vector model"
   ]
  },
  {
   "cell_type": "code",
   "execution_count": 36,
   "id": "7893d0ee",
   "metadata": {},
   "outputs": [],
   "source": [
    "y = df[\"Folder\"]\n",
    "labelencoder = LabelEncoder()\n",
    "y = labelencoder.fit_transform(y)"
   ]
  },
  {
   "cell_type": "markdown",
   "id": "f4c8629b",
   "metadata": {},
   "source": [
    "Here we are label encoding our target variable Y, which in this case is the folder name or author name of the sent email."
   ]
  },
  {
   "cell_type": "code",
   "execution_count": 37,
   "id": "cfd59d5b",
   "metadata": {},
   "outputs": [],
   "source": [
    "def vectorize(list_of_docs, model):\n",
    "\n",
    "    features = []\n",
    "\n",
    "    for tokens in list_of_docs:\n",
    "        zero_vector = np.zeros(model.vector_size)\n",
    "        vectors = []\n",
    "        for token in tokens:\n",
    "            if token in model.wv:\n",
    "                try:\n",
    "                    vectors.append(model.wv[token])\n",
    "                except KeyError:\n",
    "                    continue\n",
    "        if vectors:\n",
    "            vectors = np.asarray(vectors)\n",
    "            avg_vec = vectors.mean(axis=0)\n",
    "            features.append(avg_vec)\n",
    "        else:\n",
    "            features.append(zero_vector)\n",
    "    return features"
   ]
  },
  {
   "cell_type": "markdown",
   "id": "c8077c5c",
   "metadata": {},
   "source": [
    "This function takes input of a list of tokens, a trained word2vec model. The function then goes through all the tokens and finds the appropriate word2vec vector and appends the found vector to a list called vectors. To represent the all the word vectors present in the list vectors, we take the average of the vectors and return that to represent the list of tokens passed into the function. If none of the tokens passed in were found in the glove word dictionary a zero vector is returned."
   ]
  },
  {
   "cell_type": "code",
   "execution_count": 39,
   "id": "19706273",
   "metadata": {},
   "outputs": [
    {
     "name": "stdout",
     "output_type": "stream",
     "text": [
      "Round 1\n",
      "Training Accuracy - 0.9705555555555555\n",
      "Testing Accuracy - 0.7585\n",
      "Round 2\n",
      "Training Accuracy - 0.9707777777777777\n",
      "Testing Accuracy - 0.7265\n",
      "Round 3\n",
      "Training Accuracy - 0.9702222222222222\n",
      "Testing Accuracy - 0.729\n",
      "Round 4\n",
      "Training Accuracy - 0.9706111111111111\n",
      "Testing Accuracy - 0.7485\n",
      "Round 5\n",
      "Training Accuracy - 0.9713888888888889\n",
      "Testing Accuracy - 0.748\n",
      "Round 6\n",
      "Training Accuracy - 0.9706666666666667\n",
      "Testing Accuracy - 0.723\n",
      "Round 7\n",
      "Training Accuracy - 0.9705555555555555\n",
      "Testing Accuracy - 0.7515\n",
      "Round 8\n",
      "Training Accuracy - 0.9704444444444444\n",
      "Testing Accuracy - 0.7565\n",
      "Round 9\n",
      "Training Accuracy - 0.9706111111111111\n",
      "Testing Accuracy - 0.7645\n",
      "Round 10\n",
      "Training Accuracy - 0.9705555555555555\n",
      "Testing Accuracy - 0.745\n",
      "Average Training Accuracy\n",
      "0.9706388888888888\n",
      "Average Testing Accuracy\n",
      "0.7451\n"
     ]
    }
   ],
   "source": [
    "X = df[\"Tokens\"].to_numpy()\n",
    "kf = KFold(n_splits=10, random_state=1, shuffle=True)\n",
    "i = 1\n",
    "clf = RandomForestClassifier()\n",
    "training_accuracy = []\n",
    "testing_accuracy = []\n",
    "for train_index, test_index in kf.split(X):\n",
    "    X_train = X[train_index]\n",
    "    X_test = X[test_index]\n",
    "    y_train = y[train_index]\n",
    "    y_test = y[test_index]\n",
    "    \n",
    "    tokenized_docs = X_train\n",
    "    model = Word2Vec(sentences=tokenized_docs, vector_size=100, workers=1, seed=42)\n",
    "    vectorized_docs = vectorize(tokenized_docs, model=model)\n",
    "    \n",
    "    test_tokenized_docs = X_test\n",
    "    test_vectorized_docs = vectorize(test_tokenized_docs, model=model)\n",
    "    \n",
    "    clf.fit(vectorized_docs, y_train)\n",
    "    training_accuracy.append(clf.score(vectorized_docs, y_train))\n",
    "    testing_accuracy.append(clf.score(test_vectorized_docs, y_test))\n",
    "    print(\"Round {}\".format(i))\n",
    "    print(\"Training Accuracy - {}\".format(training_accuracy[i-1]))\n",
    "    print(\"Testing Accuracy - {}\".format(testing_accuracy[i-1]))\n",
    "    i = i + 1\n",
    "print(\"Average Training Accuracy\")\n",
    "print(sum(training_accuracy)/len(training_accuracy))\n",
    "print(\"Average Testing Accuracy\")\n",
    "print(sum(testing_accuracy)/len(testing_accuracy))"
   ]
  },
  {
   "cell_type": "markdown",
   "id": "8ed04cb1",
   "metadata": {},
   "source": [
    "Here we are taking the Tokens column and do 10 fold cross validation with word2vec and RandomForests.\n",
    "The unique training data tokens are found and used to train the word2vec model.\n",
    "We then use the vectorizer function to vectorize all the tokens per email, and get one 100d vector representing the entire email. \n",
    "We then use the RandomForest to get our training and testing accuracies.\n",
    "Average Training Accuracy\n",
    "0.9704944444444445\n",
    "Average Testing Accuracy\n",
    "0.74885"
   ]
  },
  {
   "cell_type": "code",
   "execution_count": 40,
   "id": "40215833",
   "metadata": {},
   "outputs": [
    {
     "name": "stdout",
     "output_type": "stream",
     "text": [
      "Round 1\n",
      "Training Accuracy - 0.7410555555555556\n",
      "Testing Accuracy - 0.7425\n",
      "Round 2\n",
      "Training Accuracy - 0.7416666666666667\n",
      "Testing Accuracy - 0.7325\n",
      "Round 3\n",
      "Training Accuracy - 0.7446666666666667\n",
      "Testing Accuracy - 0.7195\n",
      "Round 4\n",
      "Training Accuracy - 0.7477222222222222\n",
      "Testing Accuracy - 0.739\n",
      "Round 5\n",
      "Training Accuracy - 0.7498333333333334\n",
      "Testing Accuracy - 0.7345\n",
      "Round 6\n",
      "Training Accuracy - 0.7423333333333333\n",
      "Testing Accuracy - 0.7295\n",
      "Round 7\n",
      "Training Accuracy - 0.7466111111111111\n",
      "Testing Accuracy - 0.7425\n",
      "Round 8\n",
      "Training Accuracy - 0.7365555555555555\n",
      "Testing Accuracy - 0.74\n",
      "Round 9\n",
      "Training Accuracy - 0.7495\n",
      "Testing Accuracy - 0.7375\n",
      "Round 10\n",
      "Training Accuracy - 0.7376666666666667\n",
      "Testing Accuracy - 0.735\n",
      "Average Training Accuracy\n",
      "0.7437611111111111\n",
      "Average Testing Accuracy\n",
      "0.73525\n"
     ]
    }
   ],
   "source": [
    "X = df[\"Tokens\"].to_numpy()\n",
    "kf = KFold(n_splits=10, random_state=1, shuffle=True)\n",
    "i = 1\n",
    "clf = LogisticRegression(n_jobs=1, C=1e5, max_iter=100000)\n",
    "training_accuracy = []\n",
    "testing_accuracy = []\n",
    "for train_index, test_index in kf.split(X):\n",
    "    X_train = X[train_index]\n",
    "    X_test = X[test_index]\n",
    "    y_train = y[train_index]\n",
    "    y_test = y[test_index]\n",
    "    \n",
    "    tokenized_docs = X_train\n",
    "    model = Word2Vec(sentences=tokenized_docs, vector_size=100, workers=1, seed=42)\n",
    "    vectorized_docs = vectorize(tokenized_docs, model=model)\n",
    "    \n",
    "    test_tokenized_docs = X_test\n",
    "    test_vectorized_docs = vectorize(test_tokenized_docs, model=model)\n",
    "    \n",
    "    clf.fit(vectorized_docs, y_train)\n",
    "    training_accuracy.append(clf.score(vectorized_docs, y_train))\n",
    "    testing_accuracy.append(clf.score(test_vectorized_docs, y_test))\n",
    "    print(\"Round {}\".format(i))\n",
    "    print(\"Training Accuracy - {}\".format(training_accuracy[i-1]))\n",
    "    print(\"Testing Accuracy - {}\".format(testing_accuracy[i-1]))\n",
    "    i = i + 1\n",
    "print(\"Average Training Accuracy\")\n",
    "print(sum(training_accuracy)/len(training_accuracy))\n",
    "print(\"Average Testing Accuracy\")\n",
    "print(sum(testing_accuracy)/len(testing_accuracy))"
   ]
  },
  {
   "cell_type": "markdown",
   "id": "001e476a",
   "metadata": {},
   "source": [
    "Here we are taking the Tokens column and do 10 fold cross validation with word2vec and LogisticRegression.\n",
    "The unique training data tokens are found and used to train the word2vec model.\n",
    "We then use the vectorizer function to vectorize all the tokens per email, and get one 100d vector representing the entire email. \n",
    "We then use the LogisticRegression to get our training and testing accuracies.\n",
    "Average Training Accuracy\n",
    "0.7484777777777778\n",
    "Average Testing Accuracy\n",
    "0.7414"
   ]
  },
  {
   "cell_type": "code",
   "execution_count": 41,
   "id": "e326da9e",
   "metadata": {},
   "outputs": [
    {
     "name": "stdout",
     "output_type": "stream",
     "text": [
      "Training Accuracy\n",
      "0.8923880597014925\n",
      "Testing Accuracy\n",
      "0.7621212121212121\n"
     ]
    }
   ],
   "source": [
    "from sklearn.model_selection import GridSearchCV\n",
    "from sklearn.svm import SVC\n",
    "\n",
    "\n",
    "X_train, X_test, y_train, y_test = train_test_split(X, y, test_size=0.33, random_state=42, shuffle=True, stratify=y)\n",
    "\n",
    "tokenized_docs = X_train\n",
    "model = Word2Vec(sentences=tokenized_docs, vector_size=100, workers=1, seed=42)\n",
    "vectorized_docs = vectorize(tokenized_docs, model=model)\n",
    "    \n",
    "test_tokenized_docs = X_test\n",
    "test_vectorized_docs = vectorize(test_tokenized_docs, model=model)\n",
    "\n",
    "parameters = {\"C\": [1.0, 10], \"gamma\": [1, 'auto', 'scale']}\n",
    "\n",
    "\n",
    "model_clf = GridSearchCV(SVC(kernel='rbf'), parameters, cv=10, n_jobs=-1).fit(vectorized_docs, y_train)\n",
    "training_accuracy = model_clf.score(vectorized_docs, y_train)\n",
    "testing_accuracy = model_clf.score(test_vectorized_docs, y_test)\n",
    "print(\"Training Accuracy\")\n",
    "print(training_accuracy)\n",
    "print(\"Testing Accuracy\")\n",
    "print(testing_accuracy)"
   ]
  },
  {
   "cell_type": "markdown",
   "id": "46b49758",
   "metadata": {},
   "source": [
    "Here we are using train test split to first intially find the best parameters for Support Vector Machine. With the best parameters using train test split we are getting Training Accuracy\n",
    "0.8880597014925373\n",
    "Testing Accuracy\n",
    "0.7692424242424243"
   ]
  },
  {
   "cell_type": "code",
   "execution_count": 42,
   "id": "648f17aa",
   "metadata": {},
   "outputs": [
    {
     "data": {
      "text/plain": [
       "{'C': 10, 'gamma': 1}"
      ]
     },
     "execution_count": 42,
     "metadata": {},
     "output_type": "execute_result"
    }
   ],
   "source": [
    "model_clf.best_params_"
   ]
  },
  {
   "cell_type": "code",
   "execution_count": 43,
   "id": "4607bdf3",
   "metadata": {},
   "outputs": [
    {
     "name": "stdout",
     "output_type": "stream",
     "text": [
      "Round 1\n",
      "Training Accuracy - 0.9046111111111111\n",
      "Testing Accuracy - 0.769\n",
      "Round 2\n",
      "Training Accuracy - 0.9072777777777777\n",
      "Testing Accuracy - 0.758\n",
      "Round 3\n",
      "Training Accuracy - 0.9058888888888889\n",
      "Testing Accuracy - 0.7425\n",
      "Round 4\n",
      "Training Accuracy - 0.9111666666666667\n",
      "Testing Accuracy - 0.76\n",
      "Round 5\n",
      "Training Accuracy - 0.9097222222222222\n",
      "Testing Accuracy - 0.7505\n",
      "Round 6\n",
      "Training Accuracy - 0.9094444444444445\n",
      "Testing Accuracy - 0.742\n",
      "Round 7\n",
      "Training Accuracy - 0.9058333333333334\n",
      "Testing Accuracy - 0.757\n",
      "Round 8\n",
      "Training Accuracy - 0.9055\n",
      "Testing Accuracy - 0.768\n",
      "Round 9\n",
      "Training Accuracy - 0.9057777777777778\n",
      "Testing Accuracy - 0.763\n",
      "Round 10\n",
      "Training Accuracy - 0.9101666666666667\n",
      "Testing Accuracy - 0.747\n",
      "Average Training Accuracy\n",
      "0.907538888888889\n",
      "Average Testing Accuracy\n",
      "0.7556999999999999\n"
     ]
    }
   ],
   "source": [
    "X = df[\"Tokens\"].to_numpy()\n",
    "kf = KFold(n_splits=10, random_state=1, shuffle=True)\n",
    "i = 1\n",
    "clf = model_clf # Referencing the previous Support Vector Classifier with the best parameters\n",
    "training_accuracy = []\n",
    "testing_accuracy = []\n",
    "for train_index, test_index in kf.split(X):\n",
    "    X_train = X[train_index]\n",
    "    X_test = X[test_index]\n",
    "    y_train = y[train_index]\n",
    "    y_test = y[test_index]\n",
    "    \n",
    "    tokenized_docs = X_train\n",
    "    model = Word2Vec(sentences=tokenized_docs, vector_size=100, workers=1, seed=42)\n",
    "    vectorized_docs = vectorize(tokenized_docs, model=model)\n",
    "    \n",
    "    test_tokenized_docs = X_test\n",
    "    test_vectorized_docs = vectorize(test_tokenized_docs, model=model)\n",
    "    \n",
    "    clf.fit(vectorized_docs, y_train)\n",
    "    training_accuracy.append(clf.score(vectorized_docs, y_train))\n",
    "    testing_accuracy.append(clf.score(test_vectorized_docs, y_test))\n",
    "    print(\"Round {}\".format(i))\n",
    "    print(\"Training Accuracy - {}\".format(training_accuracy[i-1]))\n",
    "    print(\"Testing Accuracy - {}\".format(testing_accuracy[i-1]))\n",
    "    i = i + 1\n",
    "print(\"Average Training Accuracy\")\n",
    "print(sum(training_accuracy)/len(training_accuracy))\n",
    "print(\"Average Testing Accuracy\")\n",
    "print(sum(testing_accuracy)/len(testing_accuracy))"
   ]
  },
  {
   "cell_type": "markdown",
   "id": "34da51b8",
   "metadata": {},
   "source": [
    "Using the best parameters for SVM, we are doing 10 fold cross validation. \n",
    "Average Training Accuracy\n",
    "0.907538888888889\n",
    "Average Testing Accuracy\n",
    "0.7556999999999999"
   ]
  },
  {
   "cell_type": "code",
   "execution_count": 46,
   "id": "119f7ca4",
   "metadata": {},
   "outputs": [],
   "source": [
    "wordvec_training_acc_rf = 0.9704944444444445 * 100\n",
    "wordvec_testing_acc_rf = 0.74885 * 100\n",
    "wordvec_training_acc_lr = 0.7484777777777778 * 100\n",
    "wordvec_testing_acc_lr = 0.7414 * 100\n",
    "wordvec_training_acc_svm = 0.907538888888889 * 100\n",
    "wordvec_acc_svm = 0.7556999999999999 * 100\n",
    "training_acc = [wordvec_training_acc_rf, wordvec_training_acc_lr, wordvec_training_acc_svm]\n",
    "testing_acc = [wordvec_testing_acc_rf, wordvec_testing_acc_lr, wordvec_acc_svm]\n"
   ]
  },
  {
   "cell_type": "code",
   "execution_count": 47,
   "id": "3b09bffc",
   "metadata": {},
   "outputs": [
    {
     "data": {
      "image/png": "[encoded data removed]",
      "text/plain": [
       "<Figure size 432x288 with 1 Axes>"
      ]
     },
     "metadata": {
      "needs_background": "light"
     },
     "output_type": "display_data"
    }
   ],
   "source": [
    "labels = [\"Random Forests\", \"Logistic Regression\", \"Support Vector Machine\"]\n",
    "x = np.arange(len(labels))\n",
    "length = np.arange(len(labels))\n",
    "width = 0.2\n",
    "fig, ax = plt.subplots()\n",
    "rects1 = ax.bar(x - width/2, training_acc, width, label='Training Accuracies')\n",
    "rects2 = ax.bar(x + width/2, testing_acc, width, label='Testing Accuracies')\n",
    "ax.set_ylabel('Accuracies')\n",
    "ax.set_title('Word2Vec Accuracies')\n",
    "ax.set_xticks(x)\n",
    "ax.set_xticklabels(labels)\n",
    "ax.legend()\n",
    "fig.tight_layout()\n",
    "\n",
    "plt.show()"
   ]
  },
  {
   "cell_type": "markdown",
   "id": "6dc977a2",
   "metadata": {},
   "source": [
    "Plotting the average training and testing accuracies after 10 Fold Cross Validation for each all the classifiers used. We can see that Support Vector Machine has the best accuracy."
   ]
  },
  {
   "cell_type": "code",
   "execution_count": null,
   "id": "fd8ba84f",
   "metadata": {},
   "outputs": [],
   "source": []
  }
 ],
 "metadata": {
  "kernelspec": {
   "display_name": "Python 3 (ipykernel)",
   "language": "python",
   "name": "python3"
  },
  "language_info": {
   "codemirror_mode": {
    "name": "ipython",
    "version": 3
   },
   "file_extension": ".py",
   "mimetype": "text/x-python",
   "name": "python",
   "nbconvert_exporter": "python",
   "pygments_lexer": "ipython3",
   "version": "3.8.12"
  }
 },
 "nbformat": 4,
 "nbformat_minor": 5
}
